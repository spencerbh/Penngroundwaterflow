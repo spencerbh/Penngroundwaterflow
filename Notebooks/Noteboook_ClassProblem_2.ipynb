{
 "cells": [
  {
   "cell_type": "markdown",
   "metadata": {},
   "source": [
    "# _Tested Working on Linux, need to test for Windows and Mac_\n",
    "# _plots need to be resized_\n",
    "\n",
    "## University of Pennsylvania, Masters in Applied Geosciences\n",
    "\n",
    "### Groundwater Flow and Transport Modeling, Prepared by Carl Mastropaolo\n",
    "\n",
    "### Class Problem 2\n",
    "\n",
    "#### Notebook by Spencer Harris"
   ]
  },
  {
   "cell_type": "code",
   "execution_count": 1,
   "metadata": {
    "scrolled": true
   },
   "outputs": [
    {
     "name": "stdout",
     "output_type": "stream",
     "text": [
      "/home/zonas/miniconda3/bin/python\n"
     ]
    }
   ],
   "source": [
    "import sys\n",
    "print(sys.executable)"
   ]
  },
  {
   "cell_type": "code",
   "execution_count": 2,
   "metadata": {
    "collapsed": true
   },
   "outputs": [],
   "source": [
    "%matplotlib inline \n",
    "# '%' is a notebook specific command, remove if running outside of notebook\n",
    "import os \n",
    "import flopy\n",
    "import numpy as np\n",
    "import matplotlib.pyplot as plt"
   ]
  },
  {
   "cell_type": "code",
   "execution_count": 3,
   "metadata": {},
   "outputs": [
    {
     "name": "stdout",
     "output_type": "stream",
     "text": [
      "../../bin/mf2005.nix\n",
      "/home/zonas/Documents/Projects/newF_T/bin/mf2005.nix\n",
      "if this =>  \" True \"  prints true, that means executable is in the correct spot\n"
     ]
    }
   ],
   "source": [
    "mfexe = os.path.join(\"..\", \"..\", \"bin\", \"mf2005.nix\") # adds path to mf2005.nix, which will be our executeable, to mfexe\n",
    "abspath = os.path.abspath(mfexe) # assigns absolute path of mfexe to abspath, double checking\n",
    "print(mfexe) #printing the variables\n",
    "print(abspath)\n",
    "print('if this =>  \\\"', os.path.isfile(mfexe),'\\\"  prints true, that means executable is in the correct spot')"
   ]
  },
  {
   "cell_type": "markdown",
   "metadata": {},
   "source": [
    "### Model starts below:"
   ]
  },
  {
   "cell_type": "code",
   "execution_count": 4,
   "metadata": {
    "collapsed": true
   },
   "outputs": [],
   "source": [
    "# creating an empty modflow container in FloPy, m is being defined as a python object\n",
    "# Modflow model is stored in flopy -> modflow -> \n",
    "# shift + tab here to see how to input necessary files\n",
    "\n",
    "m = flopy.modflow.Modflow(modelname = 'Prob2a', exe_name = mfexe) "
   ]
  },
  {
   "cell_type": "markdown",
   "metadata": {},
   "source": [
    "--------------------\n",
    "#### Dis package"
   ]
  },
  {
   "cell_type": "code",
   "execution_count": 5,
   "metadata": {},
   "outputs": [],
   "source": [
    "nlay = 2\n",
    "nrow = 1\n",
    "ncol = 21\n",
    "nper = 1\n",
    "itmuni = 4\n",
    "lenuni = 1\n",
    "laycbd = 0\n",
    "delr = 50.\n",
    "delc = 10.\n",
    "top = 20.\n",
    "botm = np.linspace(10,0,2)\n",
    "perlen = 10.0 \n",
    "nstp = 5\n",
    "tsmult = 1\n",
    "steady = False\n",
    "\n",
    "dis = flopy.modflow.ModflowDis(m, nlay=nlay, nrow=nrow, ncol=ncol, nper=nper, delr=delr, delc=delc, \n",
    "                               laycbd=laycbd, top=top, botm=botm, perlen=perlen, nstp=nstp, tsmult=tsmult, \n",
    "                               steady=steady, itmuni=itmuni, lenuni=lenuni)\n",
    "\n"
   ]
  },
  {
   "cell_type": "markdown",
   "metadata": {},
   "source": [
    "--------------------\n",
    "#### Bcf package"
   ]
  },
  {
   "cell_type": "code",
   "execution_count": 6,
   "metadata": {
    "collapsed": true
   },
   "outputs": [],
   "source": [
    "laycon = np.linspace(0,0,2)\n",
    "hdry = 777.77\n",
    "laycon = np.linspace(0,0,2)\n",
    "trpy = np.linspace(1,1,2)\n",
    "tran = np.linspace(100,100,2)\n",
    "sf1 = np.linspace(0.0005, 0.0005, 2)\n",
    "\n",
    "bcf = flopy.modflow.ModflowBcf(m, laycon=laycon, trpy=trpy, hdry=hdry, tran=tran, sf1=sf1)\n",
    "# help(flopy.modflow.ModflowBcf)"
   ]
  },
  {
   "cell_type": "markdown",
   "metadata": {},
   "source": [
    "--------------------\n",
    "#### Bas package"
   ]
  },
  {
   "cell_type": "code",
   "execution_count": 7,
   "metadata": {},
   "outputs": [
    {
     "name": "stdout",
     "output_type": "stream",
     "text": [
      "[[[-1  1  1  1  1  1  1  1  1  1  1  1  1  1  1  1  1  1  1  1 -1]]\n",
      "\n",
      " [[ 1  1  1  1  1  1  1  1  1  1  1  1  1  1  1  1  1  1  1  1  1]]]\n",
      "[[[ 50.  50.  50.  50.  50.  50.  50.  50.  50.  50.  50.  50.  50.  50.\n",
      "    50.  50.  50.  50.  50.  50.  47.]]\n",
      "\n",
      " [[ 50.  50.  50.  50.  50.  50.  50.  50.  50.  50.  50.  50.  50.  50.\n",
      "    50.  50.  50.  50.  50.  50.  50.]]]\n"
     ]
    }
   ],
   "source": [
    "ibound = np.ones((nlay, nrow, ncol), dtype=np.int)\n",
    "ibound[0,0,0] = -1\n",
    "ibound[0,0,-1] = -1 \n",
    "# or could be the following ?:\n",
    "#ibound = [0,0,3] = -1\n",
    "\n",
    "strt = np.ones((nlay, nrow, ncol), dtype=np.float)\n",
    "strt[:,:,:] = 50.0 #assigns 50' head to the first 3 cells\n",
    "strt[0,0,-1] = 47.0 #assigns 47' head to the fourth cell\n",
    "\n",
    "bas = flopy.modflow.ModflowBas(m, ibound=ibound, strt=strt)\n",
    "\n",
    "print(ibound)\n",
    "print(strt)\n"
   ]
  },
  {
   "cell_type": "markdown",
   "metadata": {},
   "source": [
    "--------------------\n",
    "#### Sip package & Oc package"
   ]
  },
  {
   "cell_type": "code",
   "execution_count": 8,
   "metadata": {},
   "outputs": [],
   "source": [
    "sip = flopy.modflow.ModflowSip(m, mxiter=40, nparm=5, accl=1, hclose=1e-06, ipcalc=1, wseed=2e-12, iprsip=1)\n",
    "\n",
    "#below is output control\n",
    "stress_period_data = {(0,0):['save head','save budget']}\n",
    "oc = flopy.modflow.ModflowOc(m, stress_period_data=stress_period_data)\n",
    "\n",
    "#help(flopy.modflow.ModflowOc)"
   ]
  },
  {
   "cell_type": "markdown",
   "metadata": {},
   "source": [
    "####  writing our MODFLOW-2005 input files!"
   ]
  },
  {
   "cell_type": "code",
   "execution_count": 9,
   "metadata": {},
   "outputs": [
    {
     "name": "stdout",
     "output_type": "stream",
     "text": [
      "warning: assuming SpatialReference units are meters\n"
     ]
    }
   ],
   "source": [
    "m.write_input()"
   ]
  },
  {
   "cell_type": "markdown",
   "metadata": {},
   "source": [
    "#### running the model"
   ]
  },
  {
   "cell_type": "code",
   "execution_count": 10,
   "metadata": {},
   "outputs": [
    {
     "name": "stdout",
     "output_type": "stream",
     "text": [
      "FloPy is using the following executable to run the model: ../../bin/mf2005.nix\n",
      "\n",
      "                                  MODFLOW-2005     \n",
      "    U.S. GEOLOGICAL SURVEY MODULAR FINITE-DIFFERENCE GROUND-WATER FLOW MODEL\n",
      "                             Version 1.12.00 2/3/2017                        \n",
      "\n",
      " Using NAME file: Prob2a.nam \n",
      " Run start date and time (yyyy/mm/dd hh:mm:ss): 2017/10/07 13:59:12\n",
      "\n",
      " Solving:  Stress period:     1    Time step:     1    Ground-Water Flow Eqn.\n",
      " Solving:  Stress period:     1    Time step:     2    Ground-Water Flow Eqn.\n",
      " Solving:  Stress period:     1    Time step:     3    Ground-Water Flow Eqn.\n",
      " Solving:  Stress period:     1    Time step:     4    Ground-Water Flow Eqn.\n",
      " Solving:  Stress period:     1    Time step:     5    Ground-Water Flow Eqn.\n",
      " Run end date and time (yyyy/mm/dd hh:mm:ss): 2017/10/07 13:59:12\n",
      " Elapsed run time:  0.007 Seconds\n",
      "\n",
      "  Normal termination of simulation\n"
     ]
    },
    {
     "data": {
      "text/plain": [
       "(True, [])"
      ]
     },
     "execution_count": 10,
     "metadata": {},
     "output_type": "execute_result"
    }
   ],
   "source": [
    "m.run_model()"
   ]
  },
  {
   "cell_type": "markdown",
   "metadata": {},
   "source": [
    "#### fetching the heads file from the MODFLOW output"
   ]
  },
  {
   "cell_type": "code",
   "execution_count": 11,
   "metadata": {},
   "outputs": [
    {
     "name": "stdout",
     "output_type": "stream",
     "text": [
      "<flopy.utils.binaryfile.HeadFile object at 0x7f360dd00320>\n"
     ]
    }
   ],
   "source": [
    "subfolder = '.'\n",
    "fname = os.path.join(subfolder, 'Prob2a.hds')\n",
    "headobj = flopy.utils.HeadFile(fname)\n",
    "headarray = headobj.get_data()\n",
    "#help(flopy.utils.HeadFile)\n",
    "print(headobj)"
   ]
  },
  {
   "cell_type": "markdown",
   "metadata": {},
   "source": [
    "#### plotting the heads using modelmap "
   ]
  },
  {
   "cell_type": "code",
   "execution_count": 12,
   "metadata": {},
   "outputs": [
    {
     "data": {
      "text/plain": [
       "<matplotlib.colorbar.Colorbar at 0x7f363ae06cf8>"
      ]
     },
     "execution_count": 12,
     "metadata": {},
     "output_type": "execute_result"
    },
    {
     "data": {
      "image/png": "[encoded data removed]",
      "text/plain": [
       "<matplotlib.figure.Figure at 0x7f360dd001d0>"
      ]
     },
     "metadata": {},
     "output_type": "display_data"
    }
   ],
   "source": [
    "mm = flopy.plot.ModelMap(model=m)\n",
    "#mm.plot_ibound()\n",
    "#mm.plot_grid()\n",
    "mm.plot_array(headarray)\n",
    "hplot = mm.plot_array(headarray)\n",
    "plt.colorbar(hplot)\n",
    "#help(mm.plot_array)"
   ]
  },
  {
   "cell_type": "markdown",
   "metadata": {},
   "source": [
    "#### plotting in model grid (ncol, nlay)"
   ]
  },
  {
   "cell_type": "code",
   "execution_count": 13,
   "metadata": {},
   "outputs": [
    {
     "data": {
      "text/plain": [
       "<matplotlib.text.Text at 0x7f360b9f2470>"
      ]
     },
     "execution_count": 13,
     "metadata": {},
     "output_type": "execute_result"
    },
    {
     "data": {
      "image/png": "[encoded data removed]",
      "text/plain": [
       "<matplotlib.figure.Figure at 0x7f363ad9f400>"
      ]
     },
     "metadata": {},
     "output_type": "display_data"
    }
   ],
   "source": [
    "# Make a simple head plot\n",
    "fig = plt.figure(figsize=(10, 10))\n",
    "ax = fig.add_subplot(1, 1, 1, aspect='equal')\n",
    "im = ax.imshow(headarray[:, 0, :], interpolation='nearest',\n",
    "               extent=(0, ncol, 0, nlay))\n",
    "ax.set_title('Simulated Heads')"
   ]
  },
  {
   "cell_type": "markdown",
   "metadata": {},
   "source": [
    "#### The head levels from which we are creating the above plot"
   ]
  },
  {
   "cell_type": "code",
   "execution_count": 14,
   "metadata": {},
   "outputs": [
    {
     "name": "stdout",
     "output_type": "stream",
     "text": [
      "[[[ 50.          49.84751892  49.6978569   49.54824448  49.39862823\n",
      "    49.24900055  49.09936142  48.94970703  48.8000412   48.65036011\n",
      "    48.50065994  48.35094452  48.20121384  48.05147171  47.90171051\n",
      "    47.75193787  47.60214996  47.45235825  47.30255508  47.15269089  47.        ]]\n",
      "\n",
      " [[ 49.99412918  49.84740448  49.6978569   49.54824448  49.39862823\n",
      "    49.24900055  49.09936142  48.94970703  48.8000412   48.65036011\n",
      "    48.50065994  48.35094452  48.20121384  48.05147171  47.90171051\n",
      "    47.75193787  47.60214996  47.45235825  47.30255508  47.15280533\n",
      "    47.00587845]]]\n"
     ]
    }
   ],
   "source": [
    "print(headarray)"
   ]
  },
  {
   "cell_type": "code",
   "execution_count": null,
   "metadata": {
    "collapsed": true
   },
   "outputs": [],
   "source": []
  }
 ],
 "metadata": {
  "kernelspec": {
   "display_name": "Python 3",
   "language": "python",
   "name": "python3"
  },
  "language_info": {
   "codemirror_mode": {
    "name": "ipython",
    "version": 3
   },
   "file_extension": ".py",
   "mimetype": "text/x-python",
   "name": "python",
   "nbconvert_exporter": "python",
   "pygments_lexer": "ipython3",
   "version": "3.6.0"
  }
 },
 "nbformat": 4,
 "nbformat_minor": 2
}
