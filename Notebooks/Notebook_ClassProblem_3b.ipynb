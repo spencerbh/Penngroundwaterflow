{
 "cells": [
  {
   "cell_type": "markdown",
   "metadata": {},
   "source": [
    "# Todo:\n",
    "\n",
    "1.  _figure out how to use python/gis only instead of excel for ibound import_"
   ]
  },
  {
   "cell_type": "markdown",
   "metadata": {},
   "source": [
    "## University of Pennsylvania, Masters in Applied Geosciences\n",
    "\n",
    "### Groundwater Flow and Transport Modeling, Prepared by Carl Mastropaolo\n",
    "\n",
    "### Class Problem 3B\n",
    "\n",
    "#### Notebook by Spencer Harris"
   ]
  },
  {
   "cell_type": "code",
   "execution_count": 1,
   "metadata": {
    "scrolled": true
   },
   "outputs": [
    {
     "name": "stdout",
     "output_type": "stream",
     "text": [
      "/home/zonas/miniconda3/bin/python\n"
     ]
    }
   ],
   "source": [
    "import sys\n",
    "print(sys.executable)"
   ]
  },
  {
   "cell_type": "code",
   "execution_count": 2,
   "metadata": {
    "collapsed": true
   },
   "outputs": [],
   "source": [
    "%matplotlib inline \n",
    "# '%' is a notebook specific command, remove if running outside of notebook\n",
    "import os \n",
    "import flopy\n",
    "import numpy as np\n",
    "import matplotlib.pyplot as plt"
   ]
  },
  {
   "cell_type": "code",
   "execution_count": 3,
   "metadata": {},
   "outputs": [
    {
     "name": "stdout",
     "output_type": "stream",
     "text": [
      "../../bin/mf2005.nix\n",
      "/home/zonas/Documents/Projects/newF_T/bin/mf2005.nix\n",
      "if this =>  \" True \"  prints true, that means executable is in the correct spot\n"
     ]
    }
   ],
   "source": [
    "mfexe = os.path.join(\"..\", \"..\", \"bin\", \"mf2005.nix\") # adds path to mf2005.nix, which will be our executeable, to mfexe\n",
    "abspath = os.path.abspath(mfexe) # assigns absolute path of mfexe to abspath, double checking\n",
    "print(mfexe) #printing the variables\n",
    "print(abspath)\n",
    "print('if this =>  \\\"', os.path.isfile(mfexe),'\\\"  prints true, that means executable is in the correct spot')"
   ]
  },
  {
   "cell_type": "markdown",
   "metadata": {},
   "source": [
    "### Model starts below:"
   ]
  },
  {
   "cell_type": "code",
   "execution_count": 5,
   "metadata": {
    "collapsed": true
   },
   "outputs": [],
   "source": [
    "# creating an empty modflow container in FloPy, m is being defined as a python object\n",
    "# Modflow model is stored in flopy -> modflow -> \n",
    "# shift + tab here to see how to input necessary files\n",
    "\n",
    "m = flopy.modflow.Modflow(modelname = 'Prob3', exe_name = mfexe) "
   ]
  },
  {
   "cell_type": "markdown",
   "metadata": {},
   "source": [
    "--------------------\n",
    "#### Dis package"
   ]
  },
  {
   "cell_type": "code",
   "execution_count": 6,
   "metadata": {
    "collapsed": true
   },
   "outputs": [],
   "source": [
    "nlay = 1\n",
    "nrow = 1\n",
    "ncol = 11\n",
    "nper = 3\n",
    "itmuni = 4\n",
    "lenuni = 1\n",
    "laycbd = 0\n",
    "delr = 200.\n",
    "delc = 200.\n",
    "top = 20.\n",
    "botm = -10.\n",
    "perlen = np.array([100., 1., 1000.]) \n",
    "nstp = np.array([1, 20, 100])\n",
    "tsmult = 1\n",
    "steady = np.array([True, False, False])\n",
    "\n",
    "dis = flopy.modflow.ModflowDis(m, nlay=nlay, nrow=nrow, ncol=ncol, nper=nper, delr=delr, delc=delc, \n",
    "                               laycbd=laycbd, top=top, botm=botm, perlen=perlen, nstp=nstp, tsmult=tsmult, \n",
    "                               steady=steady, itmuni=itmuni, lenuni=lenuni)"
   ]
  },
  {
   "cell_type": "markdown",
   "metadata": {},
   "source": [
    "--------------------\n",
    "#### Bcf package"
   ]
  },
  {
   "cell_type": "code",
   "execution_count": 14,
   "metadata": {},
   "outputs": [
    {
     "name": "stdout",
     "output_type": "stream",
     "text": [
      "WARNING: unit 15 of package BCF6 already in use\n",
      "****Warning -- two packages of the same type:  <class 'flopy.modflow.mfbcf.ModflowBcf'> <class 'flopy.modflow.mfbcf.ModflowBcf'>\n",
      "replacing existing Package...\n"
     ]
    }
   ],
   "source": [
    "laycon = 1\n",
    "hdry = 777.77\n",
    "trpy = 1.0\n",
    "hy = 50.0\n",
    "sf2 = 0.15\n",
    "bcf = flopy.modflow.ModflowBcf(m, laycon=laycon, trpy=trpy, hdry=hdry, sf2=sf2, hy=hy)\n",
    "# help(flopy.modflow.ModflowBcf)"
   ]
  },
  {
   "cell_type": "markdown",
   "metadata": {},
   "source": [
    "--------------------\n",
    "#### Bas package"
   ]
  },
  {
   "cell_type": "code",
   "execution_count": 16,
   "metadata": {},
   "outputs": [
    {
     "name": "stdout",
     "output_type": "stream",
     "text": [
      "WARNING: unit 13 of package BAS6 already in use\n",
      "****Warning -- two packages of the same type:  <class 'flopy.modflow.mfbas.ModflowBas'> <class 'flopy.modflow.mfbas.ModflowBas'>\n",
      "replacing existing Package...\n",
      "[[[-1  1  1  1  1  1  1  1  1  1 -1]]]\n",
      "[[[ 5.  5.  5.  5.  5.  5.  5.  5.  5.  5.  5.]]]\n"
     ]
    }
   ],
   "source": [
    "mfexe = os.path.join(\"..\", \"..\", \"bin\", \"mf2005.nix\") # adds path to mf2005.nix, which will be our executeable, to mfexe\n",
    "abspath = os.path.abspath(mfexe) # assigns absolute path of mfexe to abspath, double checking\n",
    "print(mfexe) #printing the variables\n",
    "print(abspath)\n",
    "print('if this =>  \\\"', os.path.isfile(mfexe),'\\\"  prints true, that means executable is in the correct spot')\n",
    "\n",
    "\n",
    "ibound = np.ones((nlay, nrow, ncol), dtype=np.int)\n",
    "ibound[0,0,0] = -1\n",
    "ibound[0,0,-1] = -1 \n",
    "# or could be the following ?:\n",
    "#ibound = [0,0,3] = -1\n",
    "\n",
    "strt = np.ones((nlay, nrow, ncol), dtype=np.float)\n",
    "strt[:,:,:] = 5.0 #assigns 50' head to all cells\n",
    "\n",
    "bas = flopy.modflow.ModflowBas(m, ibound=ibound, strt=strt)\n",
    "\n",
    "print(ibound)\n",
    "print(strt)\n"
   ]
  },
  {
   "cell_type": "markdown",
   "metadata": {},
   "source": [
    "--------------------\n",
    "#### Sip package & Oc package"
   ]
  },
  {
   "cell_type": "code",
   "execution_count": 18,
   "metadata": {},
   "outputs": [
    {
     "name": "stdout",
     "output_type": "stream",
     "text": [
      "WARNING: unit 25 of package SIP already in use\n",
      "****Warning -- two packages of the same type:  <class 'flopy.modflow.mfsip.ModflowSip'> <class 'flopy.modflow.mfsip.ModflowSip'>\n",
      "replacing existing Package...\n",
      "WARNING: unit 14 of package OC already in use\n",
      "****Warning -- two packages of the same type:  <class 'flopy.modflow.mfoc.ModflowOc'> <class 'flopy.modflow.mfoc.ModflowOc'>\n",
      "replacing existing Package...\n"
     ]
    }
   ],
   "source": [
    "sip = flopy.modflow.ModflowSip(m, mxiter=100, nparm=5, accl=1, hclose=1e-04, ipcalc=1, wseed=2e-12, iprsip=1)\n",
    "\n",
    "#below is output control\n",
    "stress_period_data = {(0,0):['save head','save budget']}\n",
    "oc = flopy.modflow.ModflowOc(m, stress_period_data=stress_period_data)\n",
    "\n",
    "#help(flopy.modflow.ModflowOc)"
   ]
  },
  {
   "cell_type": "markdown",
   "metadata": {},
   "source": [
    "--------------------\n",
    "#### Recharge pacakge"
   ]
  },
  {
   "cell_type": "code",
   "execution_count": 28,
   "metadata": {},
   "outputs": [
    {
     "name": "stdout",
     "output_type": "stream",
     "text": [
      "WARNING: unit 19 of package RCH already in use\n",
      "****Warning -- two packages of the same type:  <class 'flopy.modflow.mfrch.ModflowRch'> <class 'flopy.modflow.mfrch.ModflowRch'>\n",
      "replacing existing Package...\n"
     ]
    }
   ],
   "source": [
    "#flopy.ModflowRch(model, rech=0.001)\n",
    "#help(flopy.modflow.ModflowRch)\n",
    "\n",
    "rech = {}\n",
    "rech[0] = 2.3e-3 #stress period 1 to 4\n",
    "rech[1] = 0. #stress period 5 and 6\n",
    "rech[2] = 2.3e-3 #stress preiod 7 to the end\n",
    "rch = flopy.modflow.ModflowRch(m, nrchop=3, rech=rech)\n"
   ]
  },
  {
   "cell_type": "markdown",
   "metadata": {},
   "source": [
    "####  writing our MODFLOW-2005 input files!"
   ]
  },
  {
   "cell_type": "code",
   "execution_count": 29,
   "metadata": {},
   "outputs": [
    {
     "name": "stdout",
     "output_type": "stream",
     "text": [
      "warning: assuming SpatialReference units are meters\n"
     ]
    }
   ],
   "source": [
    "m.write_input()"
   ]
  },
  {
   "cell_type": "markdown",
   "metadata": {},
   "source": [
    "#### running the model"
   ]
  },
  {
   "cell_type": "code",
   "execution_count": 30,
   "metadata": {},
   "outputs": [
    {
     "name": "stdout",
     "output_type": "stream",
     "text": [
      "FloPy is using the following executable to run the model: ../../bin/mf2005.nix\n",
      "\n",
      "                                  MODFLOW-2005     \n",
      "    U.S. GEOLOGICAL SURVEY MODULAR FINITE-DIFFERENCE GROUND-WATER FLOW MODEL\n",
      "                             Version 1.12.00 2/3/2017                        \n",
      "\n",
      " Using NAME file: Prob3.nam \n",
      " Run start date and time (yyyy/mm/dd hh:mm:ss): 2017/10/07 17:37:14\n",
      "\n",
      " Solving:  Stress period:     1    Time step:     1    Ground-Water Flow Eqn.\n",
      " Solving:  Stress period:     2    Time step:     1    Ground-Water Flow Eqn.\n",
      " Solving:  Stress period:     2    Time step:     2    Ground-Water Flow Eqn.\n",
      " Solving:  Stress period:     2    Time step:     3    Ground-Water Flow Eqn.\n",
      " Solving:  Stress period:     2    Time step:     4    Ground-Water Flow Eqn.\n",
      " Solving:  Stress period:     2    Time step:     5    Ground-Water Flow Eqn.\n",
      " Solving:  Stress period:     2    Time step:     6    Ground-Water Flow Eqn.\n",
      " Solving:  Stress period:     2    Time step:     7    Ground-Water Flow Eqn.\n",
      " Solving:  Stress period:     2    Time step:     8    Ground-Water Flow Eqn.\n",
      " Solving:  Stress period:     2    Time step:     9    Ground-Water Flow Eqn.\n",
      " Solving:  Stress period:     2    Time step:    10    Ground-Water Flow Eqn.\n",
      " Solving:  Stress period:     2    Time step:    11    Ground-Water Flow Eqn.\n",
      " Solving:  Stress period:     2    Time step:    12    Ground-Water Flow Eqn.\n",
      " Solving:  Stress period:     2    Time step:    13    Ground-Water Flow Eqn.\n",
      " Solving:  Stress period:     2    Time step:    14    Ground-Water Flow Eqn.\n",
      " Solving:  Stress period:     2    Time step:    15    Ground-Water Flow Eqn.\n",
      " Solving:  Stress period:     2    Time step:    16    Ground-Water Flow Eqn.\n",
      " Solving:  Stress period:     2    Time step:    17    Ground-Water Flow Eqn.\n",
      " Solving:  Stress period:     2    Time step:    18    Ground-Water Flow Eqn.\n",
      " Solving:  Stress period:     2    Time step:    19    Ground-Water Flow Eqn.\n",
      " Solving:  Stress period:     2    Time step:    20    Ground-Water Flow Eqn.\n",
      " Solving:  Stress period:     3    Time step:     1    Ground-Water Flow Eqn.\n",
      " Solving:  Stress period:     3    Time step:     2    Ground-Water Flow Eqn.\n",
      " Solving:  Stress period:     3    Time step:     3    Ground-Water Flow Eqn.\n",
      " Solving:  Stress period:     3    Time step:     4    Ground-Water Flow Eqn.\n",
      " Solving:  Stress period:     3    Time step:     5    Ground-Water Flow Eqn.\n",
      " Solving:  Stress period:     3    Time step:     6    Ground-Water Flow Eqn.\n",
      " Solving:  Stress period:     3    Time step:     7    Ground-Water Flow Eqn.\n",
      " Solving:  Stress period:     3    Time step:     8    Ground-Water Flow Eqn.\n",
      " Solving:  Stress period:     3    Time step:     9    Ground-Water Flow Eqn.\n",
      " Solving:  Stress period:     3    Time step:    10    Ground-Water Flow Eqn.\n",
      " Solving:  Stress period:     3    Time step:    11    Ground-Water Flow Eqn.\n",
      " Solving:  Stress period:     3    Time step:    12    Ground-Water Flow Eqn.\n",
      " Solving:  Stress period:     3    Time step:    13    Ground-Water Flow Eqn.\n",
      " Solving:  Stress period:     3    Time step:    14    Ground-Water Flow Eqn.\n",
      " Solving:  Stress period:     3    Time step:    15    Ground-Water Flow Eqn.\n",
      " Solving:  Stress period:     3    Time step:    16    Ground-Water Flow Eqn.\n",
      " Solving:  Stress period:     3    Time step:    17    Ground-Water Flow Eqn.\n",
      " Solving:  Stress period:     3    Time step:    18    Ground-Water Flow Eqn.\n",
      " Solving:  Stress period:     3    Time step:    19    Ground-Water Flow Eqn.\n",
      " Solving:  Stress period:     3    Time step:    20    Ground-Water Flow Eqn.\n",
      " Solving:  Stress period:     3    Time step:    21    Ground-Water Flow Eqn.\n",
      " Solving:  Stress period:     3    Time step:    22    Ground-Water Flow Eqn.\n",
      " Solving:  Stress period:     3    Time step:    23    Ground-Water Flow Eqn.\n",
      " Solving:  Stress period:     3    Time step:    24    Ground-Water Flow Eqn.\n",
      " Solving:  Stress period:     3    Time step:    25    Ground-Water Flow Eqn.\n",
      " Solving:  Stress period:     3    Time step:    26    Ground-Water Flow Eqn.\n",
      " Solving:  Stress period:     3    Time step:    27    Ground-Water Flow Eqn.\n",
      " Solving:  Stress period:     3    Time step:    28    Ground-Water Flow Eqn.\n",
      " Solving:  Stress period:     3    Time step:    29    Ground-Water Flow Eqn.\n",
      " Solving:  Stress period:     3    Time step:    30    Ground-Water Flow Eqn.\n",
      " Solving:  Stress period:     3    Time step:    31    Ground-Water Flow Eqn.\n",
      " Solving:  Stress period:     3    Time step:    32    Ground-Water Flow Eqn.\n",
      " Solving:  Stress period:     3    Time step:    33    Ground-Water Flow Eqn.\n",
      " Solving:  Stress period:     3    Time step:    34    Ground-Water Flow Eqn.\n",
      " Solving:  Stress period:     3    Time step:    35    Ground-Water Flow Eqn.\n",
      " Solving:  Stress period:     3    Time step:    36    Ground-Water Flow Eqn.\n",
      " Solving:  Stress period:     3    Time step:    37    Ground-Water Flow Eqn.\n",
      " Solving:  Stress period:     3    Time step:    38    Ground-Water Flow Eqn.\n",
      " Solving:  Stress period:     3    Time step:    39    Ground-Water Flow Eqn.\n",
      " Solving:  Stress period:     3    Time step:    40    Ground-Water Flow Eqn.\n",
      " Solving:  Stress period:     3    Time step:    41    Ground-Water Flow Eqn.\n",
      " Solving:  Stress period:     3    Time step:    42    Ground-Water Flow Eqn.\n",
      " Solving:  Stress period:     3    Time step:    43    Ground-Water Flow Eqn.\n",
      " Solving:  Stress period:     3    Time step:    44    Ground-Water Flow Eqn.\n",
      " Solving:  Stress period:     3    Time step:    45    Ground-Water Flow Eqn.\n",
      " Solving:  Stress period:     3    Time step:    46    Ground-Water Flow Eqn.\n",
      " Solving:  Stress period:     3    Time step:    47    Ground-Water Flow Eqn.\n",
      " Solving:  Stress period:     3    Time step:    48    Ground-Water Flow Eqn.\n",
      " Solving:  Stress period:     3    Time step:    49    Ground-Water Flow Eqn.\n",
      " Solving:  Stress period:     3    Time step:    50    Ground-Water Flow Eqn.\n",
      " Solving:  Stress period:     3    Time step:    51    Ground-Water Flow Eqn.\n",
      " Solving:  Stress period:     3    Time step:    52    Ground-Water Flow Eqn.\n",
      " Solving:  Stress period:     3    Time step:    53    Ground-Water Flow Eqn.\n",
      " Solving:  Stress period:     3    Time step:    54    Ground-Water Flow Eqn.\n",
      " Solving:  Stress period:     3    Time step:    55    Ground-Water Flow Eqn.\n",
      " Solving:  Stress period:     3    Time step:    56    Ground-Water Flow Eqn.\n",
      " Solving:  Stress period:     3    Time step:    57    Ground-Water Flow Eqn.\n",
      " Solving:  Stress period:     3    Time step:    58    Ground-Water Flow Eqn.\n",
      " Solving:  Stress period:     3    Time step:    59    Ground-Water Flow Eqn.\n",
      " Solving:  Stress period:     3    Time step:    60    Ground-Water Flow Eqn.\n",
      " Solving:  Stress period:     3    Time step:    61    Ground-Water Flow Eqn.\n",
      " Solving:  Stress period:     3    Time step:    62    Ground-Water Flow Eqn.\n",
      " Solving:  Stress period:     3    Time step:    63    Ground-Water Flow Eqn.\n",
      " Solving:  Stress period:     3    Time step:    64    Ground-Water Flow Eqn.\n",
      " Solving:  Stress period:     3    Time step:    65    Ground-Water Flow Eqn.\n",
      " Solving:  Stress period:     3    Time step:    66    Ground-Water Flow Eqn.\n",
      " Solving:  Stress period:     3    Time step:    67    Ground-Water Flow Eqn.\n",
      " Solving:  Stress period:     3    Time step:    68    Ground-Water Flow Eqn.\n",
      " Solving:  Stress period:     3    Time step:    69    Ground-Water Flow Eqn.\n",
      " Solving:  Stress period:     3    Time step:    70    Ground-Water Flow Eqn.\n",
      " Solving:  Stress period:     3    Time step:    71    Ground-Water Flow Eqn.\n",
      " Solving:  Stress period:     3    Time step:    72    Ground-Water Flow Eqn.\n",
      " Solving:  Stress period:     3    Time step:    73    Ground-Water Flow Eqn.\n",
      " Solving:  Stress period:     3    Time step:    74    Ground-Water Flow Eqn.\n",
      " Solving:  Stress period:     3    Time step:    75    Ground-Water Flow Eqn.\n",
      " Solving:  Stress period:     3    Time step:    76    Ground-Water Flow Eqn.\n",
      " Solving:  Stress period:     3    Time step:    77    Ground-Water Flow Eqn.\n",
      " Solving:  Stress period:     3    Time step:    78    Ground-Water Flow Eqn.\n",
      " Solving:  Stress period:     3    Time step:    79    Ground-Water Flow Eqn.\n",
      " Solving:  Stress period:     3    Time step:    80    Ground-Water Flow Eqn.\n",
      " Solving:  Stress period:     3    Time step:    81    Ground-Water Flow Eqn.\n",
      " Solving:  Stress period:     3    Time step:    82    Ground-Water Flow Eqn.\n",
      " Solving:  Stress period:     3    Time step:    83    Ground-Water Flow Eqn.\n",
      " Solving:  Stress period:     3    Time step:    84    Ground-Water Flow Eqn.\n",
      " Solving:  Stress period:     3    Time step:    85    Ground-Water Flow Eqn.\n",
      " Solving:  Stress period:     3    Time step:    86    Ground-Water Flow Eqn.\n",
      " Solving:  Stress period:     3    Time step:    87    Ground-Water Flow Eqn.\n",
      " Solving:  Stress period:     3    Time step:    88    Ground-Water Flow Eqn.\n",
      " Solving:  Stress period:     3    Time step:    89    Ground-Water Flow Eqn.\n",
      " Solving:  Stress period:     3    Time step:    90    Ground-Water Flow Eqn.\n",
      " Solving:  Stress period:     3    Time step:    91    Ground-Water Flow Eqn.\n",
      " Solving:  Stress period:     3    Time step:    92    Ground-Water Flow Eqn.\n",
      " Solving:  Stress period:     3    Time step:    93    Ground-Water Flow Eqn.\n",
      " Solving:  Stress period:     3    Time step:    94    Ground-Water Flow Eqn.\n",
      " Solving:  Stress period:     3    Time step:    95    Ground-Water Flow Eqn.\n",
      " Solving:  Stress period:     3    Time step:    96    Ground-Water Flow Eqn.\n",
      " Solving:  Stress period:     3    Time step:    97    Ground-Water Flow Eqn.\n",
      " Solving:  Stress period:     3    Time step:    98    Ground-Water Flow Eqn.\n",
      " Solving:  Stress period:     3    Time step:    99    Ground-Water Flow Eqn.\n",
      " Solving:  Stress period:     3    Time step:   100    Ground-Water Flow Eqn.\n",
      " Run end date and time (yyyy/mm/dd hh:mm:ss): 2017/10/07 17:37:14\n",
      " Elapsed run time:  0.013 Seconds\n",
      "\n",
      "  Normal termination of simulation\n"
     ]
    },
    {
     "data": {
      "text/plain": [
       "(True, [])"
      ]
     },
     "execution_count": 30,
     "metadata": {},
     "output_type": "execute_result"
    }
   ],
   "source": [
    "m.run_model()"
   ]
  },
  {
   "cell_type": "markdown",
   "metadata": {},
   "source": [
    "#### fetching the heads file from the MODFLOW output\n",
    "I *think* we are getting step 100 heads from stress period 3"
   ]
  },
  {
   "cell_type": "code",
   "execution_count": 31,
   "metadata": {},
   "outputs": [
    {
     "name": "stdout",
     "output_type": "stream",
     "text": [
      "<flopy.utils.binaryfile.HeadFile object at 0x7f17255b8860>\n"
     ]
    }
   ],
   "source": [
    "subfolder = '.'\n",
    "fname = os.path.join(subfolder, 'Prob3.hds')\n",
    "headobj = flopy.utils.HeadFile(fname)\n",
    "headarray = headobj.get_data()\n",
    "#help(flopy.utils.HeadFile)\n",
    "print(headobj)"
   ]
  },
  {
   "cell_type": "markdown",
   "metadata": {},
   "source": [
    "#### plotting the heads using modelmap "
   ]
  },
  {
   "cell_type": "code",
   "execution_count": 32,
   "metadata": {},
   "outputs": [
    {
     "data": {
      "text/plain": [
       "<matplotlib.colorbar.Colorbar at 0x7f17253ff668>"
      ]
     },
     "execution_count": 32,
     "metadata": {},
     "output_type": "execute_result"
    },
    {
     "data": {
      "image/png": "[encoded data removed]",
      "text/plain": [
       "<matplotlib.figure.Figure at 0x7f17253564a8>"
      ]
     },
     "metadata": {},
     "output_type": "display_data"
    }
   ],
   "source": [
    "mm = flopy.plot.ModelMap(model=m)\n",
    "#mm.plot_ibound()\n",
    "#mm.plot_grid()\n",
    "mm.plot_array(headarray)\n",
    "hplot = mm.plot_array(headarray)\n",
    "plt.colorbar(hplot)\n",
    "#help(mm.plot_array)"
   ]
  },
  {
   "cell_type": "markdown",
   "metadata": {},
   "source": [
    "#### plotting in model grid (ncol, nlay)"
   ]
  },
  {
   "cell_type": "code",
   "execution_count": 33,
   "metadata": {},
   "outputs": [
    {
     "data": {
      "text/plain": [
       "<matplotlib.text.Text at 0x7f17253e7f60>"
      ]
     },
     "execution_count": 33,
     "metadata": {},
     "output_type": "execute_result"
    },
    {
     "data": {
      "image/png": "[encoded data removed]",
      "text/plain": [
       "<matplotlib.figure.Figure at 0x7f1725574390>"
      ]
     },
     "metadata": {},
     "output_type": "display_data"
    }
   ],
   "source": [
    "# Make a simple head plot\n",
    "fig = plt.figure(figsize=(10, 10))\n",
    "ax = fig.add_subplot(1, 1, 1, aspect='equal')\n",
    "im = ax.imshow(headarray[:, 0, :], interpolation='nearest',\n",
    "               extent=(0, ncol, 0, nlay))\n",
    "ax.set_title('Simulated Heads')"
   ]
  },
  {
   "cell_type": "markdown",
   "metadata": {},
   "source": [
    "#### The head levels from which we are creating the above plot"
   ]
  },
  {
   "cell_type": "code",
   "execution_count": 34,
   "metadata": {},
   "outputs": [
    {
     "name": "stdout",
     "output_type": "stream",
     "text": [
      "[[[ 5.          5.54236889  5.95140743  6.23724508  6.40634823  6.46232891\n",
      "    6.40634823  6.23724508  5.95140743  5.54236889  5.        ]]]\n"
     ]
    }
   ],
   "source": [
    "print(headarray)"
   ]
  },
  {
   "cell_type": "code",
   "execution_count": null,
   "metadata": {
    "collapsed": true
   },
   "outputs": [],
   "source": []
  }
 ],
 "metadata": {
  "kernelspec": {
   "display_name": "Python 3",
   "language": "python",
   "name": "python3"
  },
  "language_info": {
   "codemirror_mode": {
    "name": "ipython",
    "version": 3
   },
   "file_extension": ".py",
   "mimetype": "text/x-python",
   "name": "python",
   "nbconvert_exporter": "python",
   "pygments_lexer": "ipython3",
   "version": "3.6.0"
  }
 },
 "nbformat": 4,
 "nbformat_minor": 2
}
